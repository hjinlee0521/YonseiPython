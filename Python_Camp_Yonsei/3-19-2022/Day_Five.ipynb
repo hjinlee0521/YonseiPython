{
 "cells": [
  {
   "cell_type": "code",
   "execution_count": 8,
   "metadata": {},
   "outputs": [
    {
     "name": "stdout",
     "output_type": "stream",
     "text": [
      "wooden door\n",
      "wooden door\n",
      "wooden door\n",
      "wooden door\n",
      "wooden door\n",
      "wooden door\n",
      "wooden door\n",
      "wooden door\n",
      "wooden door\n",
      "wooden door\n"
     ]
    }
   ],
   "source": [
    "class Door:\n",
    "    def __init__(self, door_name_):\n",
    "        self.door_name = door_name_\n",
    "    \n",
    "    def knock(self):\n",
    "        print(self.door_name)\n",
    "        \n",
    "        \n",
    "doors = []\n",
    "for _ in range(10):\n",
    "    doors.append(Door(\"wooden door\"))\n",
    "\n",
    "for door_ in doors:\n",
    "    door_.knock()"
   ]
  },
  {
   "cell_type": "code",
   "execution_count": 32,
   "metadata": {},
   "outputs": [],
   "source": [
    "class AirConditioner:\n",
    "    # 클래스변수 조금있다 가르쳐주기\n",
    "    def __init__(self, name, price):\n",
    "        self.name = name \n",
    "        self.price = price \n",
    "    \n",
    "    def operate(self, sound):\n",
    "        print(\"위잉\" + sound)\n"
   ]
  },
  {
   "cell_type": "code",
   "execution_count": 40,
   "metadata": {},
   "outputs": [
    {
     "name": "stdout",
     "output_type": "stream",
     "text": [
      "samsung\n"
     ]
    }
   ],
   "source": [
    "\n",
    "c = AirConditioner(\"samsung\", 500000)\n",
    "print(c.name)\n",
    "# d = AirConditioner(\"LG\", 600000)"
   ]
  },
  {
   "cell_type": "code",
   "execution_count": 38,
   "metadata": {},
   "outputs": [
    {
     "name": "stdout",
     "output_type": "stream",
     "text": [
      "위잉dddddjfjfjfdddd\n"
     ]
    }
   ],
   "source": [
    "\n",
    "x = AirConditioner(\"jgjjgj\", 500000).operate(\"dddddjfjfjfdddd\")\n",
    "x."
   ]
  },
  {
   "cell_type": "code",
   "execution_count": 26,
   "metadata": {},
   "outputs": [
    {
     "name": "stdout",
     "output_type": "stream",
     "text": [
      "ssss\n"
     ]
    }
   ],
   "source": [
    "a = print\n",
    "a(\"ssss\")"
   ]
  },
  {
   "cell_type": "code",
   "execution_count": 87,
   "metadata": {},
   "outputs": [],
   "source": [
    "class Player: \n",
    "    all_number = 0 \n",
    "    \n",
    "    def __init__(self, id, playing_time, win_rate, played_games):\n",
    "        self.id = id \n",
    "        self.playing_tme = playing_time  \n",
    "        self.win_rate = win_rate\n",
    "        self.played_games = played_games\n",
    "        self.weapon = None\n",
    "        self.helmet = None\n",
    "        self.health = 200\n",
    "        Player.all_number += 1\n",
    "    \n",
    "    def get_weapon(self, weapon):\n",
    "        self.weapon = weapon \n",
    "        \n",
    "    def moving(self):\n",
    "        pass\n",
    "    \n",
    "    def shot(self):\n",
    "        self.weapon.shot()\n",
    "    \n",
    "    def riding(slef):\n",
    "        pass"
   ]
  },
  {
   "cell_type": "code",
   "execution_count": 88,
   "metadata": {},
   "outputs": [
    {
     "name": "stdout",
     "output_type": "stream",
     "text": [
      "2\n"
     ]
    }
   ],
   "source": [
    "player1 = Player(\"HJIN\", 60, 10, 4445)\n",
    "player2 = Player(\"Noname\", 10000, 50, 7000)\n",
    "\n",
    "print(Player.all_number)"
   ]
  },
  {
   "cell_type": "code",
   "execution_count": 59,
   "metadata": {},
   "outputs": [
    {
     "name": "stdout",
     "output_type": "stream",
     "text": [
      "minigun\n"
     ]
    },
    {
     "ename": "AttributeError",
     "evalue": "'str' object has no attribute 'shot'",
     "output_type": "error",
     "traceback": [
      "\u001b[0;31m---------------------------------------------------------------------------\u001b[0m",
      "\u001b[0;31mAttributeError\u001b[0m                            Traceback (most recent call last)",
      "\u001b[1;32m/Users/h.j/Desktop/Python/Python_Camp_Yonsei/3-19-2022/Day_Five.ipynb Cell 8'\u001b[0m in \u001b[0;36m<cell line: 3>\u001b[0;34m()\u001b[0m\n\u001b[1;32m      <a href='vscode-notebook-cell:/Users/h.j/Desktop/Python/Python_Camp_Yonsei/3-19-2022/Day_Five.ipynb#ch0000008?line=0'>1</a>\u001b[0m player1\u001b[39m.\u001b[39mget_weapon(\u001b[39m\"\u001b[39m\u001b[39mminigun\u001b[39m\u001b[39m\"\u001b[39m)\n\u001b[1;32m      <a href='vscode-notebook-cell:/Users/h.j/Desktop/Python/Python_Camp_Yonsei/3-19-2022/Day_Five.ipynb#ch0000008?line=1'>2</a>\u001b[0m \u001b[39mprint\u001b[39m(player1\u001b[39m.\u001b[39mweapon)\n\u001b[0;32m----> <a href='vscode-notebook-cell:/Users/h.j/Desktop/Python/Python_Camp_Yonsei/3-19-2022/Day_Five.ipynb#ch0000008?line=2'>3</a>\u001b[0m player1\u001b[39m.\u001b[39;49mshot()\n",
      "\u001b[1;32m/Users/h.j/Desktop/Python/Python_Camp_Yonsei/3-19-2022/Day_Five.ipynb Cell 6'\u001b[0m in \u001b[0;36mPlayer.shot\u001b[0;34m(self)\u001b[0m\n\u001b[1;32m     <a href='vscode-notebook-cell:/Users/h.j/Desktop/Python/Python_Camp_Yonsei/3-19-2022/Day_Five.ipynb#ch0000006?line=16'>17</a>\u001b[0m \u001b[39mdef\u001b[39;00m \u001b[39mshot\u001b[39m(\u001b[39mself\u001b[39m):\n\u001b[0;32m---> <a href='vscode-notebook-cell:/Users/h.j/Desktop/Python/Python_Camp_Yonsei/3-19-2022/Day_Five.ipynb#ch0000006?line=17'>18</a>\u001b[0m     \u001b[39mself\u001b[39;49m\u001b[39m.\u001b[39;49mweapon\u001b[39m.\u001b[39;49mshot()\n",
      "\u001b[0;31mAttributeError\u001b[0m: 'str' object has no attribute 'shot'"
     ]
    }
   ],
   "source": [
    "player1.get_weapon(\"minigun\")\n",
    "print(player1.weapon)\n",
    "player1.shot()"
   ]
  },
  {
   "cell_type": "code",
   "execution_count": 60,
   "metadata": {},
   "outputs": [],
   "source": [
    "class Weapon: \n",
    "    def __init__(self, name, ammo):\n",
    "        self.name = name \n",
    "        self.ammo = ammo\n",
    "        print(f\"name: {self.name} ammo: {self.ammo}\") \n",
    "    \n",
    "    def shot(self):\n",
    "        if self.ammo > 0:\n",
    "            print(\"따당\")\n",
    "            self.ammo -= 1\n",
    "        else:\n",
    "            self.reload()\n",
    "            self.shot()\n",
    "    \n",
    "    def reload(self):\n",
    "        print(\"reload!!\")\n",
    "        self.ammo += 10\n",
    "        \n",
    "# w1 = Weapon(\"amg\",10)\n",
    "\n",
    "# for _ in range(20):\n",
    "#     w1.shot()"
   ]
  },
  {
   "cell_type": "code",
   "execution_count": 66,
   "metadata": {},
   "outputs": [
    {
     "name": "stdout",
     "output_type": "stream",
     "text": [
      "name: minigun ammo: 300\n",
      "따당\n"
     ]
    }
   ],
   "source": [
    "player1 = Player(\"HJIN\", 60, 10, 4445)\n",
    "weapon1 = Weapon(\"minigun\", 300)\n",
    "\n",
    "player1.get_weapon(weapon1)\n",
    "\n",
    "player1.shot()"
   ]
  },
  {
   "cell_type": "code",
   "execution_count": 64,
   "metadata": {},
   "outputs": [
    {
     "name": "stdout",
     "output_type": "stream",
     "text": [
      "따당\n"
     ]
    }
   ],
   "source": [
    "player1.shot()"
   ]
  },
  {
   "cell_type": "code",
   "execution_count": 65,
   "metadata": {},
   "outputs": [
    {
     "name": "stdout",
     "output_type": "stream",
     "text": [
      "196\n"
     ]
    }
   ],
   "source": [
    "print(player1.weapon.ammo)"
   ]
  },
  {
   "cell_type": "code",
   "execution_count": 80,
   "metadata": {},
   "outputs": [],
   "source": [
    "class NPC(Player):\n",
    "    def __init__(self, id, playing_time, win_rate, played_games):\n",
    "        super().__init__(id, playing_time, win_rate, played_games)\n",
    "        self.health = 99999"
   ]
  },
  {
   "cell_type": "code",
   "execution_count": 83,
   "metadata": {},
   "outputs": [],
   "source": [
    "npc = NPC(\"npc\", None, None, 0)"
   ]
  },
  {
   "cell_type": "code",
   "execution_count": null,
   "metadata": {},
   "outputs": [],
   "source": []
  }
 ],
 "metadata": {
  "interpreter": {
   "hash": "31f2aee4e71d21fbe5cf8b01ff0e069b9275f58929596ceb00d14d90e3e16cd6"
  },
  "kernelspec": {
   "display_name": "Python 3.8.9 64-bit",
   "language": "python",
   "name": "python3"
  },
  "language_info": {
   "codemirror_mode": {
    "name": "ipython",
    "version": 3
   },
   "file_extension": ".py",
   "mimetype": "text/x-python",
   "name": "python",
   "nbconvert_exporter": "python",
   "pygments_lexer": "ipython3",
   "version": "3.8.9"
  },
  "orig_nbformat": 4
 },
 "nbformat": 4,
 "nbformat_minor": 2
}
